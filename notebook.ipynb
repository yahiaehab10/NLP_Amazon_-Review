{
 "cells": [
  {
   "cell_type": "markdown",
   "metadata": {},
   "source": [
    "# Amazon Reviews: Natural Language Processing "
   ]
  },
  {
   "cell_type": "markdown",
   "metadata": {},
   "source": [
    "## Data Loading & Exploration"
   ]
  },
  {
   "cell_type": "code",
   "execution_count": 63,
   "metadata": {},
   "outputs": [],
   "source": [
    "import numpy as np\n",
    "import pandas as pd\n",
    "\n",
    "import seaborn as sns\n",
    "import matplotlib.pyplot as plt\n",
    "\n",
    "from warnings import filterwarnings\n",
    "filterwarnings('ignore')"
   ]
  },
  {
   "cell_type": "code",
   "execution_count": 64,
   "metadata": {},
   "outputs": [
    {
     "data": {
      "text/html": [
       "<div>\n",
       "<style scoped>\n",
       "    .dataframe tbody tr th:only-of-type {\n",
       "        vertical-align: middle;\n",
       "    }\n",
       "\n",
       "    .dataframe tbody tr th {\n",
       "        vertical-align: top;\n",
       "    }\n",
       "\n",
       "    .dataframe thead th {\n",
       "        text-align: right;\n",
       "    }\n",
       "</style>\n",
       "<table border=\"1\" class=\"dataframe\">\n",
       "  <thead>\n",
       "    <tr style=\"text-align: right;\">\n",
       "      <th></th>\n",
       "      <th>Id</th>\n",
       "      <th>ProductId</th>\n",
       "      <th>UserId</th>\n",
       "      <th>ProfileName</th>\n",
       "      <th>HelpfulnessNumerator</th>\n",
       "      <th>HelpfulnessDenominator</th>\n",
       "      <th>Score</th>\n",
       "      <th>Time</th>\n",
       "      <th>Summary</th>\n",
       "      <th>Text</th>\n",
       "    </tr>\n",
       "  </thead>\n",
       "  <tbody>\n",
       "    <tr>\n",
       "      <th>0</th>\n",
       "      <td>1</td>\n",
       "      <td>B001E4KFG0</td>\n",
       "      <td>A3SGXH7AUHU8GW</td>\n",
       "      <td>delmartian</td>\n",
       "      <td>1</td>\n",
       "      <td>1</td>\n",
       "      <td>5</td>\n",
       "      <td>1303862400</td>\n",
       "      <td>Good Quality Dog Food</td>\n",
       "      <td>I have bought several of the Vitality canned d...</td>\n",
       "    </tr>\n",
       "    <tr>\n",
       "      <th>1</th>\n",
       "      <td>2</td>\n",
       "      <td>B00813GRG4</td>\n",
       "      <td>A1D87F6ZCVE5NK</td>\n",
       "      <td>dll pa</td>\n",
       "      <td>0</td>\n",
       "      <td>0</td>\n",
       "      <td>1</td>\n",
       "      <td>1346976000</td>\n",
       "      <td>Not as Advertised</td>\n",
       "      <td>Product arrived labeled as Jumbo Salted Peanut...</td>\n",
       "    </tr>\n",
       "    <tr>\n",
       "      <th>2</th>\n",
       "      <td>3</td>\n",
       "      <td>B000LQOCH0</td>\n",
       "      <td>ABXLMWJIXXAIN</td>\n",
       "      <td>Natalia Corres \"Natalia Corres\"</td>\n",
       "      <td>1</td>\n",
       "      <td>1</td>\n",
       "      <td>4</td>\n",
       "      <td>1219017600</td>\n",
       "      <td>\"Delight\" says it all</td>\n",
       "      <td>This is a confection that has been around a fe...</td>\n",
       "    </tr>\n",
       "    <tr>\n",
       "      <th>3</th>\n",
       "      <td>4</td>\n",
       "      <td>B000UA0QIQ</td>\n",
       "      <td>A395BORC6FGVXV</td>\n",
       "      <td>Karl</td>\n",
       "      <td>3</td>\n",
       "      <td>3</td>\n",
       "      <td>2</td>\n",
       "      <td>1307923200</td>\n",
       "      <td>Cough Medicine</td>\n",
       "      <td>If you are looking for the secret ingredient i...</td>\n",
       "    </tr>\n",
       "    <tr>\n",
       "      <th>4</th>\n",
       "      <td>5</td>\n",
       "      <td>B006K2ZZ7K</td>\n",
       "      <td>A1UQRSCLF8GW1T</td>\n",
       "      <td>Michael D. Bigham \"M. Wassir\"</td>\n",
       "      <td>0</td>\n",
       "      <td>0</td>\n",
       "      <td>5</td>\n",
       "      <td>1350777600</td>\n",
       "      <td>Great taffy</td>\n",
       "      <td>Great taffy at a great price.  There was a wid...</td>\n",
       "    </tr>\n",
       "  </tbody>\n",
       "</table>\n",
       "</div>"
      ],
      "text/plain": [
       "   Id   ProductId          UserId                      ProfileName  \\\n",
       "0   1  B001E4KFG0  A3SGXH7AUHU8GW                       delmartian   \n",
       "1   2  B00813GRG4  A1D87F6ZCVE5NK                           dll pa   \n",
       "2   3  B000LQOCH0   ABXLMWJIXXAIN  Natalia Corres \"Natalia Corres\"   \n",
       "3   4  B000UA0QIQ  A395BORC6FGVXV                             Karl   \n",
       "4   5  B006K2ZZ7K  A1UQRSCLF8GW1T    Michael D. Bigham \"M. Wassir\"   \n",
       "\n",
       "   HelpfulnessNumerator  HelpfulnessDenominator  Score        Time  \\\n",
       "0                     1                       1      5  1303862400   \n",
       "1                     0                       0      1  1346976000   \n",
       "2                     1                       1      4  1219017600   \n",
       "3                     3                       3      2  1307923200   \n",
       "4                     0                       0      5  1350777600   \n",
       "\n",
       "                 Summary                                               Text  \n",
       "0  Good Quality Dog Food  I have bought several of the Vitality canned d...  \n",
       "1      Not as Advertised  Product arrived labeled as Jumbo Salted Peanut...  \n",
       "2  \"Delight\" says it all  This is a confection that has been around a fe...  \n",
       "3         Cough Medicine  If you are looking for the secret ingredient i...  \n",
       "4            Great taffy  Great taffy at a great price.  There was a wid...  "
      ]
     },
     "execution_count": 64,
     "metadata": {},
     "output_type": "execute_result"
    }
   ],
   "source": [
    "data = pd.read_csv('./Reviews.csv')\n",
    "\n",
    "data.head()"
   ]
  },
  {
   "cell_type": "markdown",
   "metadata": {},
   "source": [
    "### Feature Engineering"
   ]
  },
  {
   "cell_type": "code",
   "execution_count": 65,
   "metadata": {},
   "outputs": [],
   "source": [
    "data[\"Percentage_Helpful\"] = np.where(\n",
    "    data[\"HelpfulnessDenominator\"] > 0,\n",
    "    data[\"HelpfulnessNumerator\"] / data[\"HelpfulnessDenominator\"],\n",
    "    -1,\n",
    ")\n",
    "\n",
    "data[\"Percentage_Bins\"] = pd.cut(\n",
    "    data[\"Percentage_Helpful\"],\n",
    "    bins=[-1, 0, 0.2, 0.4, 0.6, 0.8, 1.0],\n",
    "    labels=[\"Empty\", \"0-20%\", \"20-40%\", \"40-60%\", \"60-80%\", \"80-100%\"],\n",
    ")"
   ]
  },
  {
   "cell_type": "code",
   "execution_count": 66,
   "metadata": {},
   "outputs": [
    {
     "data": {
      "text/html": [
       "<div>\n",
       "<style scoped>\n",
       "    .dataframe tbody tr th:only-of-type {\n",
       "        vertical-align: middle;\n",
       "    }\n",
       "\n",
       "    .dataframe tbody tr th {\n",
       "        vertical-align: top;\n",
       "    }\n",
       "\n",
       "    .dataframe thead th {\n",
       "        text-align: right;\n",
       "    }\n",
       "</style>\n",
       "<table border=\"1\" class=\"dataframe\">\n",
       "  <thead>\n",
       "    <tr style=\"text-align: right;\">\n",
       "      <th></th>\n",
       "      <th>Id</th>\n",
       "      <th>ProductId</th>\n",
       "      <th>UserId</th>\n",
       "      <th>ProfileName</th>\n",
       "      <th>HelpfulnessNumerator</th>\n",
       "      <th>HelpfulnessDenominator</th>\n",
       "      <th>Score</th>\n",
       "      <th>Time</th>\n",
       "      <th>Summary</th>\n",
       "      <th>Text</th>\n",
       "      <th>Percentage_Helpful</th>\n",
       "      <th>Percentage_Bins</th>\n",
       "    </tr>\n",
       "  </thead>\n",
       "  <tbody>\n",
       "    <tr>\n",
       "      <th>0</th>\n",
       "      <td>1</td>\n",
       "      <td>B001E4KFG0</td>\n",
       "      <td>A3SGXH7AUHU8GW</td>\n",
       "      <td>delmartian</td>\n",
       "      <td>1</td>\n",
       "      <td>1</td>\n",
       "      <td>5</td>\n",
       "      <td>1303862400</td>\n",
       "      <td>Good Quality Dog Food</td>\n",
       "      <td>I have bought several of the Vitality canned d...</td>\n",
       "      <td>1.0</td>\n",
       "      <td>80-100%</td>\n",
       "    </tr>\n",
       "    <tr>\n",
       "      <th>1</th>\n",
       "      <td>2</td>\n",
       "      <td>B00813GRG4</td>\n",
       "      <td>A1D87F6ZCVE5NK</td>\n",
       "      <td>dll pa</td>\n",
       "      <td>0</td>\n",
       "      <td>0</td>\n",
       "      <td>1</td>\n",
       "      <td>1346976000</td>\n",
       "      <td>Not as Advertised</td>\n",
       "      <td>Product arrived labeled as Jumbo Salted Peanut...</td>\n",
       "      <td>-1.0</td>\n",
       "      <td>NaN</td>\n",
       "    </tr>\n",
       "    <tr>\n",
       "      <th>2</th>\n",
       "      <td>3</td>\n",
       "      <td>B000LQOCH0</td>\n",
       "      <td>ABXLMWJIXXAIN</td>\n",
       "      <td>Natalia Corres \"Natalia Corres\"</td>\n",
       "      <td>1</td>\n",
       "      <td>1</td>\n",
       "      <td>4</td>\n",
       "      <td>1219017600</td>\n",
       "      <td>\"Delight\" says it all</td>\n",
       "      <td>This is a confection that has been around a fe...</td>\n",
       "      <td>1.0</td>\n",
       "      <td>80-100%</td>\n",
       "    </tr>\n",
       "    <tr>\n",
       "      <th>3</th>\n",
       "      <td>4</td>\n",
       "      <td>B000UA0QIQ</td>\n",
       "      <td>A395BORC6FGVXV</td>\n",
       "      <td>Karl</td>\n",
       "      <td>3</td>\n",
       "      <td>3</td>\n",
       "      <td>2</td>\n",
       "      <td>1307923200</td>\n",
       "      <td>Cough Medicine</td>\n",
       "      <td>If you are looking for the secret ingredient i...</td>\n",
       "      <td>1.0</td>\n",
       "      <td>80-100%</td>\n",
       "    </tr>\n",
       "    <tr>\n",
       "      <th>4</th>\n",
       "      <td>5</td>\n",
       "      <td>B006K2ZZ7K</td>\n",
       "      <td>A1UQRSCLF8GW1T</td>\n",
       "      <td>Michael D. Bigham \"M. Wassir\"</td>\n",
       "      <td>0</td>\n",
       "      <td>0</td>\n",
       "      <td>5</td>\n",
       "      <td>1350777600</td>\n",
       "      <td>Great taffy</td>\n",
       "      <td>Great taffy at a great price.  There was a wid...</td>\n",
       "      <td>-1.0</td>\n",
       "      <td>NaN</td>\n",
       "    </tr>\n",
       "  </tbody>\n",
       "</table>\n",
       "</div>"
      ],
      "text/plain": [
       "   Id   ProductId          UserId                      ProfileName  \\\n",
       "0   1  B001E4KFG0  A3SGXH7AUHU8GW                       delmartian   \n",
       "1   2  B00813GRG4  A1D87F6ZCVE5NK                           dll pa   \n",
       "2   3  B000LQOCH0   ABXLMWJIXXAIN  Natalia Corres \"Natalia Corres\"   \n",
       "3   4  B000UA0QIQ  A395BORC6FGVXV                             Karl   \n",
       "4   5  B006K2ZZ7K  A1UQRSCLF8GW1T    Michael D. Bigham \"M. Wassir\"   \n",
       "\n",
       "   HelpfulnessNumerator  HelpfulnessDenominator  Score        Time  \\\n",
       "0                     1                       1      5  1303862400   \n",
       "1                     0                       0      1  1346976000   \n",
       "2                     1                       1      4  1219017600   \n",
       "3                     3                       3      2  1307923200   \n",
       "4                     0                       0      5  1350777600   \n",
       "\n",
       "                 Summary                                               Text  \\\n",
       "0  Good Quality Dog Food  I have bought several of the Vitality canned d...   \n",
       "1      Not as Advertised  Product arrived labeled as Jumbo Salted Peanut...   \n",
       "2  \"Delight\" says it all  This is a confection that has been around a fe...   \n",
       "3         Cough Medicine  If you are looking for the secret ingredient i...   \n",
       "4            Great taffy  Great taffy at a great price.  There was a wid...   \n",
       "\n",
       "   Percentage_Helpful Percentage_Bins  \n",
       "0                 1.0         80-100%  \n",
       "1                -1.0             NaN  \n",
       "2                 1.0         80-100%  \n",
       "3                 1.0         80-100%  \n",
       "4                -1.0             NaN  "
      ]
     },
     "execution_count": 66,
     "metadata": {},
     "output_type": "execute_result"
    }
   ],
   "source": [
    "data.head()"
   ]
  },
  {
   "cell_type": "code",
   "execution_count": 67,
   "metadata": {},
   "outputs": [],
   "source": [
    "data = data.groupby([\"Score\", \"Percentage_Bins\"]).agg({\"Id\": \"count\"}).reset_index()"
   ]
  },
  {
   "cell_type": "code",
   "execution_count": 68,
   "metadata": {},
   "outputs": [
    {
     "data": {
      "text/html": [
       "<div>\n",
       "<style scoped>\n",
       "    .dataframe tbody tr th:only-of-type {\n",
       "        vertical-align: middle;\n",
       "    }\n",
       "\n",
       "    .dataframe tbody tr th {\n",
       "        vertical-align: top;\n",
       "    }\n",
       "\n",
       "    .dataframe thead tr th {\n",
       "        text-align: left;\n",
       "    }\n",
       "\n",
       "    .dataframe thead tr:last-of-type th {\n",
       "        text-align: right;\n",
       "    }\n",
       "</style>\n",
       "<table border=\"1\" class=\"dataframe\">\n",
       "  <thead>\n",
       "    <tr>\n",
       "      <th></th>\n",
       "      <th colspan=\"5\" halign=\"left\">Id</th>\n",
       "    </tr>\n",
       "    <tr>\n",
       "      <th>Score</th>\n",
       "      <th>1</th>\n",
       "      <th>2</th>\n",
       "      <th>3</th>\n",
       "      <th>4</th>\n",
       "      <th>5</th>\n",
       "    </tr>\n",
       "    <tr>\n",
       "      <th>Percentage_Bins</th>\n",
       "      <th></th>\n",
       "      <th></th>\n",
       "      <th></th>\n",
       "      <th></th>\n",
       "      <th></th>\n",
       "    </tr>\n",
       "  </thead>\n",
       "  <tbody>\n",
       "    <tr>\n",
       "      <th>Empty</th>\n",
       "      <td>8060</td>\n",
       "      <td>4234</td>\n",
       "      <td>5062</td>\n",
       "      <td>4780</td>\n",
       "      <td>11638</td>\n",
       "    </tr>\n",
       "    <tr>\n",
       "      <th>0-20%</th>\n",
       "      <td>2338</td>\n",
       "      <td>762</td>\n",
       "      <td>474</td>\n",
       "      <td>116</td>\n",
       "      <td>432</td>\n",
       "    </tr>\n",
       "    <tr>\n",
       "      <th>20-40%</th>\n",
       "      <td>4649</td>\n",
       "      <td>1618</td>\n",
       "      <td>1506</td>\n",
       "      <td>909</td>\n",
       "      <td>2275</td>\n",
       "    </tr>\n",
       "    <tr>\n",
       "      <th>40-60%</th>\n",
       "      <td>6586</td>\n",
       "      <td>3051</td>\n",
       "      <td>3384</td>\n",
       "      <td>3185</td>\n",
       "      <td>10312</td>\n",
       "    </tr>\n",
       "    <tr>\n",
       "      <th>60-80%</th>\n",
       "      <td>5838</td>\n",
       "      <td>2486</td>\n",
       "      <td>2754</td>\n",
       "      <td>2941</td>\n",
       "      <td>11060</td>\n",
       "    </tr>\n",
       "    <tr>\n",
       "      <th>80-100%</th>\n",
       "      <td>12531</td>\n",
       "      <td>7014</td>\n",
       "      <td>11037</td>\n",
       "      <td>26707</td>\n",
       "      <td>140661</td>\n",
       "    </tr>\n",
       "  </tbody>\n",
       "</table>\n",
       "</div>"
      ],
      "text/plain": [
       "                    Id                            \n",
       "Score                1     2      3      4       5\n",
       "Percentage_Bins                                   \n",
       "Empty             8060  4234   5062   4780   11638\n",
       "0-20%             2338   762    474    116     432\n",
       "20-40%            4649  1618   1506    909    2275\n",
       "40-60%            6586  3051   3384   3185   10312\n",
       "60-80%            5838  2486   2754   2941   11060\n",
       "80-100%          12531  7014  11037  26707  140661"
      ]
     },
     "execution_count": 68,
     "metadata": {},
     "output_type": "execute_result"
    }
   ],
   "source": [
    "data.pivot(index=\"Percentage_Bins\", columns=\"Score\")"
   ]
  },
  {
   "cell_type": "markdown",
   "metadata": {},
   "source": [
    "### Visualization"
   ]
  },
  {
   "cell_type": "code",
   "execution_count": 69,
   "metadata": {},
   "outputs": [
    {
     "data": {
      "text/plain": [
       "<Axes: xlabel='Score', ylabel='Percentage_Bins'>"
      ]
     },
     "execution_count": 69,
     "metadata": {},
     "output_type": "execute_result"
    },
    {
     "data": {
      "image/png": "[encoded data removed]",
      "text/plain": [
       "<Figure size 640x480 with 2 Axes>"
      ]
     },
     "metadata": {},
     "output_type": "display_data"
    }
   ],
   "source": [
    "sns.heatmap(\n",
    "    data.pivot(index=\"Percentage_Bins\", columns=\"Score\")[\"Id\"], annot=True, fmt=\"d\"\n",
    ")"
   ]
  },
  {
   "cell_type": "markdown",
   "metadata": {},
   "source": [
    "## ML-NLP"
   ]
  },
  {
   "cell_type": "code",
   "execution_count": 70,
   "metadata": {},
   "outputs": [],
   "source": [
    "original_data = pd.read_csv('./Reviews.csv')\n",
    "\n",
    "# Exclude neutral score\n",
    "df = original_data[original_data[\"Score\"] != 3]\n",
    "X = df[\"Text\"]\n",
    "y_dict = {1: 0, 2: 0, 4: 1, 5: 1}\n",
    "y = df[\"Score\"].map(y_dict)"
   ]
  },
  {
   "cell_type": "markdown",
   "metadata": {},
   "source": [
    "### Word2Vec"
   ]
  },
  {
   "cell_type": "code",
   "execution_count": 71,
   "metadata": {},
   "outputs": [],
   "source": [
    "from sklearn.feature_extraction.text import CountVectorizer\n",
    "\n",
    "c = CountVectorizer(stop_words = 'english') # stop_words = 'english' removes common words like 'the', 'a', 'an', etc.\n",
    "X_c = c.fit_transform(X)"
   ]
  },
  {
   "cell_type": "code",
   "execution_count": 72,
   "metadata": {},
   "outputs": [
    {
     "name": "stdout",
     "output_type": "stream",
     "text": [
      "features: 114969\n"
     ]
    }
   ],
   "source": [
    "print('features: {}'.format(X_c.shape[1]))"
   ]
  },
  {
   "cell_type": "code",
   "execution_count": 73,
   "metadata": {},
   "outputs": [
    {
     "name": "stdout",
     "output_type": "stream",
     "text": [
      " train records: 394360\n",
      "Model Accuracy: 0.9371034734583961\n"
     ]
    }
   ],
   "source": [
    "from sklearn.linear_model import LogisticRegression\n",
    "from sklearn.model_selection import train_test_split\n",
    "\n",
    "X_train, X_test, y_train, y_test = train_test_split(X_c, y)\n",
    "print(' train records: {}'.format(X_train.shape[0]))\n",
    "\n",
    "log = LogisticRegression()\n",
    "\n",
    "ml = log.fit(X_train, y_train)\n",
    "acc = ml.score(X_test, y_test)\n",
    "\n",
    "print(\"Model Accuracy: {}\".format(acc))"
   ]
  },
  {
   "cell_type": "markdown",
   "metadata": {},
   "source": [
    "#### View Top 5 Positive & Top 5 negative words"
   ]
  },
  {
   "cell_type": "code",
   "execution_count": 74,
   "metadata": {},
   "outputs": [],
   "source": [
    "w = c.get_feature_names_out() # get the words used in the model.\n",
    "coef = ml.coef_.tolist()[0] # get the coefficients of the model\n",
    "\n",
    "coef_df = pd.DataFrame({\"Word\": w, \"Coefficient\": coef})\n",
    "\n",
    "coef_df = coef_df.sort_values([\"Coefficient\", \"Word\"], ascending=False)"
   ]
  },
  {
   "cell_type": "code",
   "execution_count": 75,
   "metadata": {},
   "outputs": [
    {
     "name": "stdout",
     "output_type": "stream",
     "text": [
      "-Top 20 positive-\n",
      "      Word  Coefficient\n",
      "pleasantly     3.775995\n",
      "  downside     3.171503\n",
      " addicting     2.963913\n",
      " skeptical     2.698764\n",
      "    hooked     2.608958\n",
      "    resist     2.401741\n",
      "    delish     2.295262\n",
      "  drawback     2.263858\n",
      "   worries     2.176166\n",
      " excellent     2.148602\n",
      " delighted     2.144827\n",
      "  soothing     2.116235\n",
      "  terrific     2.103860\n",
      "     penny     2.077154\n",
      "   perfect     1.994557\n",
      "     holds     1.991882\n",
      "  hesitant     1.988897\n",
      "   welcome     1.976772\n",
      "    brings     1.956225\n",
      "   easiest     1.950760\n",
      "\n",
      "\n",
      "-Top 20 negative-\n",
      "          Word  Coefficient\n",
      "        bummer    -2.334036\n",
      "         ruins    -2.348238\n",
      "       defeats    -2.367676\n",
      "       allegro    -2.377608\n",
      "      terrible    -2.406612\n",
      "disappointment    -2.442205\n",
      "       glowing    -2.457148\n",
      "   unappealing    -2.564299\n",
      "    overpowers    -2.579469\n",
      "         lousy    -2.709415\n",
      "   embarrassed    -2.920224\n",
      "        ripoff    -2.969976\n",
      "    returnable    -3.022010\n",
      "     cancelled    -3.044287\n",
      "      mediocre    -3.062919\n",
      " disappointing    -3.083078\n",
      "     deceptive    -3.134062\n",
      "  unacceptable    -3.199960\n",
      "         worst    -3.335479\n",
      "   undrinkable    -3.628240\n"
     ]
    }
   ],
   "source": [
    "print(\"-Top 20 positive-\")\n",
    "print(coef_df.head(20).to_string(index=False))\n",
    "print(\"\\n\")\n",
    "print(\"-Top 20 negative-\")\n",
    "print(coef_df.tail(20).to_string(index=False))"
   ]
  },
  {
   "cell_type": "markdown",
   "metadata": {},
   "source": [
    "### NLP Automation"
   ]
  },
  {
   "cell_type": "code",
   "execution_count": 76,
   "metadata": {},
   "outputs": [],
   "source": [
    "def text_fit(X, y, nlp_model,ml_model,coef_show=1):\n",
    "    X_c = nlp_model.fit_transform(X)\n",
    "    print('features: {}'.format(X_c.shape[1]))\n",
    "    X_train, X_test, y_train, y_test = train_test_split(X_c, y)\n",
    "    print(' train records: {}'.format(X_train.shape[0]))\n",
    "    print(' test records: {}'.format(X_test.shape[0]))\n",
    "    ml =ml_model.fit(X_train, y_train)\n",
    "    acc = ml.score(X_test, y_test)\n",
    "    print ('Model Accuracy: {}'.format(acc))\n",
    "    \n",
    "    if coef_show == 1: \n",
    "        w = nlp_model.get_feature_names_out()\n",
    "        coef = ml.coef_.tolist()[0]\n",
    "        coeff_df = pd.DataFrame({'Word' : w, 'Coefficient' : coef})\n",
    "        coeff_df = coeff_df.sort_values(['Coefficient', 'Word'], ascending=[0, 1])\n",
    "        print('\\n')\n",
    "        print('-Top 5 positive-')\n",
    "        print(coeff_df.head(5).to_string(index=False))\n",
    "        print('\\n')\n",
    "        print('-Top 5 negative-')        \n",
    "        print(coeff_df.tail(5).to_string(index=False))"
   ]
  },
  {
   "cell_type": "code",
   "execution_count": 77,
   "metadata": {},
   "outputs": [
    {
     "name": "stdout",
     "output_type": "stream",
     "text": [
      "features: 114969\n",
      " train records: 394360\n",
      " test records: 131454\n",
      "Model Accuracy: 0.9363047149573235\n",
      "\n",
      "\n",
      "-Top 5 positive-\n",
      "      Word  Coefficient\n",
      "pleasantly     4.251667\n",
      "  downside     3.543465\n",
      " addicting     3.059885\n",
      " skeptical     3.011605\n",
      "  soothing     2.468265\n",
      "\n",
      "\n",
      "-Top 5 negative-\n",
      "       Word  Coefficient\n",
      "     ripoff    -2.904487\n",
      "  cancelled    -3.001201\n",
      " returnable    -3.080141\n",
      "  deceptive    -3.816741\n",
      "undrinkable    -3.835468\n"
     ]
    }
   ],
   "source": [
    "from sklearn.feature_extraction.text import CountVectorizer\n",
    "from sklearn.linear_model import LogisticRegression\n",
    "\n",
    "c = CountVectorizer(stop_words = 'english')\n",
    "log = LogisticRegression()\n",
    "\n",
    "text_fit(X, y, c, log)"
   ]
  },
  {
   "cell_type": "markdown",
   "metadata": {},
   "source": [
    "### Predict function"
   ]
  },
  {
   "cell_type": "code",
   "execution_count": 78,
   "metadata": {},
   "outputs": [],
   "source": [
    "from sklearn.metrics import confusion_matrix,accuracy_score\n",
    "def predict(X, y, nlp_model,ml_model):\n",
    "    \n",
    "    X_c = nlp_model.fit_transform(X)\n",
    "    print('features: {}'.format(X_c.shape[1]))\n",
    "    X_train, X_test, y_train, y_test = train_test_split(X_c, y)\n",
    "    print(' train records: {}'.format(X_train.shape[0]))\n",
    "    print(' test records: {}'.format(X_test.shape[0]))\n",
    "    ml =ml_model.fit(X_train, y_train)\n",
    "    predictions=ml.predict(X_test)\n",
    "    cm=confusion_matrix(predictions,y_test)\n",
    "    print(cm)\n",
    "    acc=accuracy_score(predictions,y_test)\n",
    "    print(acc)"
   ]
  },
  {
   "cell_type": "code",
   "execution_count": 79,
   "metadata": {},
   "outputs": [
    {
     "name": "stdout",
     "output_type": "stream",
     "text": [
      "features: 114969\n",
      " train records: 394360\n",
      " test records: 131454\n",
      "[[ 14976   2949]\n",
      " [  5442 108087]]\n",
      "0.9361677849285681\n"
     ]
    }
   ],
   "source": [
    "from sklearn.feature_extraction.text import CountVectorizer\n",
    "from sklearn.linear_model import LogisticRegression\n",
    "\n",
    "c = CountVectorizer(stop_words = 'english')\n",
    "lr=LogisticRegression()\n",
    "\n",
    "predict(X, y, c, lr)"
   ]
  },
  {
   "cell_type": "markdown",
   "metadata": {},
   "source": [
    "### Try on Dummy Data"
   ]
  },
  {
   "cell_type": "code",
   "execution_count": 80,
   "metadata": {},
   "outputs": [
    {
     "name": "stdout",
     "output_type": "stream",
     "text": [
      "features: 114969\n",
      " train records: 394360\n",
      " test records: 131454\n",
      "Model Accuracy: 0.842705433079252\n",
      "features: 114969\n",
      " train records: 394360\n",
      " test records: 131454\n",
      "Model Accuracy: 0.9338475816635478\n",
      "\n",
      "\n",
      "-Top 5 positive-\n",
      "     Word  Coefficient\n",
      "    great    14.014445\n",
      "     best    12.443800\n",
      "delicious    12.058217\n",
      "  perfect    10.558667\n",
      "    loves     9.570948\n",
      "\n",
      "\n",
      "-Top 5 negative-\n",
      "          Word  Coefficient\n",
      "  disappointed    -8.644732\n",
      "disappointment    -8.915198\n",
      "      terrible    -9.434258\n",
      " disappointing    -9.880078\n",
      "         worst   -12.102672\n"
     ]
    }
   ],
   "source": [
    "from sklearn.dummy import DummyClassifier\n",
    "from sklearn.feature_extraction.text import TfidfVectorizer\n",
    "\n",
    "text_fit(X, y, c, DummyClassifier(),0)\n",
    "\n",
    "tfidf = TfidfVectorizer(stop_words=\"english\")\n",
    "text_fit(X, y, tfidf, LogisticRegression())"
   ]
  },
  {
   "cell_type": "markdown",
   "metadata": {},
   "source": [
    "### Oversampling Problem\n",
    "\n",
    "We will be focusing on score 5 reviews, and get rid of comments with neutral votes"
   ]
  },
  {
   "cell_type": "code",
   "execution_count": 84,
   "metadata": {},
   "outputs": [],
   "source": [
    "df[\"Percentage_Helpful\"] = np.where(\n",
    "\tdf[\"HelpfulnessDenominator\"] > 0,\n",
    "\tdf[\"HelpfulnessNumerator\"] / df[\"HelpfulnessDenominator\"],\n",
    "\t-1,\n",
    ")\n",
    "\n",
    "df[\"Percentage_Bins\"] = pd.cut(\n",
    "\tdf[\"Percentage_Helpful\"],\n",
    "\tbins=[-1, 0, 0.2, 0.4, 0.6, 0.8, 1.0],\n",
    "\tlabels=[\"Empty\", \"0-20%\", \"20-40%\", \"40-60%\", \"60-80%\", \"80-100%\"],\n",
    ")\n",
    "\n",
    "df2 = df[df['Score'] == 5]\n",
    "data2 = df2[df2[\"Percentage_Bins\"].isin([\"0-20%\", \"20-40%\", \"60-80%\", \"80-100%\"])] # exclude empty and 40-60% bins as they are neutral"
   ]
  },
  {
   "cell_type": "code",
   "execution_count": 85,
   "metadata": {},
   "outputs": [],
   "source": [
    "X = data2[\"Text\"]\n",
    "y_dict = {\"0-20%\": 0, \"20-40%\": 0, \"60-80%\": 1, \"80-100%\": 1}\n",
    "y = data2[\"Percentage_Bins\"].map(y_dict)"
   ]
  },
  {
   "cell_type": "code",
   "execution_count": 86,
   "metadata": {},
   "outputs": [
    {
     "name": "stdout",
     "output_type": "stream",
     "text": [
      "Percentage_Bins\n",
      "1.0    151721\n",
      "0.0      2707\n",
      "Name: count, dtype: int64\n"
     ]
    }
   ],
   "source": [
    "print(y.value_counts())"
   ]
  },
  {
   "cell_type": "code",
   "execution_count": 87,
   "metadata": {},
   "outputs": [],
   "source": [
    "from sklearn.feature_extraction.text import TfidfVectorizer\n",
    "from sklearn.model_selection import train_test_split\n",
    "\n",
    "\n",
    "tf = TfidfVectorizer()\n",
    "X_c = tf.fit_transform(X)\n",
    "\n",
    "X_train, X_test, y_train, y_test = train_test_split(X_c, y, train_size=0.7)"
   ]
  },
  {
   "cell_type": "code",
   "execution_count": 88,
   "metadata": {},
   "outputs": [
    {
     "data": {
      "text/plain": [
       "Percentage_Bins\n",
       "1.0    45504\n",
       "0.0      825\n",
       "Name: count, dtype: int64"
      ]
     },
     "execution_count": 88,
     "metadata": {},
     "output_type": "execute_result"
    }
   ],
   "source": [
    "y_test.value_counts()"
   ]
  },
  {
   "cell_type": "code",
   "execution_count": 90,
   "metadata": {},
   "outputs": [
    {
     "data": {
      "text/plain": [
       "((303442, 67507), (303442,))"
      ]
     },
     "execution_count": 90,
     "metadata": {},
     "output_type": "execute_result"
    }
   ],
   "source": [
    "from imblearn.over_sampling import RandomOverSampler\n",
    "\n",
    "os = RandomOverSampler()\n",
    "\n",
    "X_train_res, y_train_res = os.fit_resample(X_c, y)\n",
    "X_train_res.shape, y_train_res.shape"
   ]
  },
  {
   "cell_type": "code",
   "execution_count": 92,
   "metadata": {},
   "outputs": [
    {
     "name": "stdout",
     "output_type": "stream",
     "text": [
      "Original dataset shape Counter({1.0: 151721, 0.0: 2707})\n",
      "Resampled dataset shape Counter({1.0: 151721, 0.0: 151721})\n"
     ]
    }
   ],
   "source": [
    "from collections import Counter\n",
    "\n",
    "print(\"Original dataset shape {}\".format(Counter(y)))\n",
    "print(\"Resampled dataset shape {}\".format(Counter(y_train_res)))"
   ]
  },
  {
   "cell_type": "code",
   "execution_count": 93,
   "metadata": {},
   "outputs": [],
   "source": [
    "from sklearn.linear_model import LogisticRegression\n",
    "\n",
    "log_class = LogisticRegression()\n",
    "\n",
    "grid = {\"C\": 10.0 ** np.arange(-2, 3), \"penalty\": [\"l1\", \"l2\"]}"
   ]
  },
  {
   "cell_type": "code",
   "execution_count": 94,
   "metadata": {},
   "outputs": [],
   "source": [
    "from sklearn.model_selection import GridSearchCV\n",
    "\n",
    "clf = GridSearchCV(estimator=log_class, param_grid=grid, cv=5, n_jobs=-1, scoring=\"f1_macro\")\n",
    "clf.fit(X_train_res, y_train_res)\n",
    "\n",
    "y_pred = clf.predict(X_test)"
   ]
  },
  {
   "cell_type": "code",
   "execution_count": 95,
   "metadata": {},
   "outputs": [
    {
     "name": "stdout",
     "output_type": "stream",
     "text": [
      "[[  825     0]\n",
      " [  903 44601]]\n",
      "              precision    recall  f1-score   support\n",
      "\n",
      "         0.0       0.48      1.00      0.65       825\n",
      "         1.0       1.00      0.98      0.99     45504\n",
      "\n",
      "    accuracy                           0.98     46329\n",
      "   macro avg       0.74      0.99      0.82     46329\n",
      "weighted avg       0.99      0.98      0.98     46329\n",
      "\n"
     ]
    }
   ],
   "source": [
    "from sklearn.metrics import confusion_matrix, classification_report\n",
    "\n",
    "print(confusion_matrix(y_test, y_pred))\n",
    "print(classification_report(y_test, y_pred))"
   ]
  }
 ],
 "metadata": {
  "kernelspec": {
   "display_name": "base",
   "language": "python",
   "name": "python3"
  },
  "language_info": {
   "codemirror_mode": {
    "name": "ipython",
    "version": 3
   },
   "file_extension": ".py",
   "mimetype": "text/x-python",
   "name": "python",
   "nbconvert_exporter": "python",
   "pygments_lexer": "ipython3",
   "version": "3.10.12"
  }
 },
 "nbformat": 4,
 "nbformat_minor": 2
}
